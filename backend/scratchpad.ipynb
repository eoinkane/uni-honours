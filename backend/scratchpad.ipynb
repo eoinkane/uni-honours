{
 "cells": [
  {
   "cell_type": "code",
   "execution_count": null,
   "metadata": {},
   "outputs": [],
   "source": [
    "from __future__ import annotations\n",
    "import json\n",
    "from importlib import reload\n",
    "import dotenv\n",
    "\n",
    "from code.handler_lambda.src import app\n",
    "\n",
    "dotenv.load_dotenv(\".env\", override=True)\n",
    "# dotenv.load_dotenv(\".env.gift-card-service.d.ts\", override=True)\n",
    "# dotenv.load_dotenv(\".env.ce-portal.d.ts\", override=True)"
   ]
  },
  {
   "cell_type": "code",
   "execution_count": null,
   "metadata": {},
   "outputs": [],
   "source": [
    "event = None\n",
    "with open('./example-event.json') as f:\n",
    "    event = json.load(f)\n",
    "    \n",
    "class FakeCognitoIdentity():\n",
    "    cognito_identity_id=None\n",
    "    cognito_identity_pool_id=None\n",
    "\n",
    "class FakeLambdaContext():\n",
    "    aws_request_id=\"3f97e52c-fb76-4060-8e91-8c6ca16ddf46\",\n",
    "    log_group_name=\"aws/lambda/EoinKUniHProject2HandlerLambda218C7910\",\n",
    "    log_stream_name=\"$LATEST\",\n",
    "    function_name=\"EoinKUniHProject2HandlerLambda218C7910\",\n",
    "    memory_limit_in_mb=\"128\",\n",
    "    function_version=\"$LATEST\",\n",
    "    invoked_function_arn=\"arn:aws:lambda:us-east-1:012345678912:function:EoinKUniHProject2HandlerLambda218C7910\",\n",
    "    client_context=\"None\",\n",
    "    identity=FakeCognitoIdentity()"
   ]
  },
  {
   "cell_type": "code",
   "execution_count": null,
   "metadata": {},
   "outputs": [],
   "source": [
    "def update_path(path: str):\n",
    "    event[\"path\"] = f\"/{path}\"\n",
    "    event[\"pathParameters\"][\"proxy\"] = path"
   ]
  },
  {
   "cell_type": "code",
   "execution_count": null,
   "metadata": {},
   "outputs": [],
   "source": [
    "import sys\n",
    "\n",
    "from code.handler_lambda.src import app\n",
    "for module_key in [key for key in sys.modules.keys() if \"code.handler_lambda\" in key]:\n",
    "    reload(sys.modules[module_key])\n"
   ]
  },
  {
   "cell_type": "code",
   "execution_count": null,
   "metadata": {},
   "outputs": [],
   "source": [
    "update_path(\"mean-time-to-recovery/1\")\n",
    "app.handler(event, FakeLambdaContext())"
   ]
  },
  {
   "cell_type": "code",
   "execution_count": null,
   "metadata": {},
   "outputs": [],
   "source": [
    "update_path(\"deployment-frequency/1\")\n",
    "app.handler(event, FakeLambdaContext())"
   ]
  },
  {
   "cell_type": "code",
   "execution_count": null,
   "metadata": {},
   "outputs": [],
   "source": [
    "update_path(\"change-failure-rate/1\")\n",
    "app.handler(event, FakeLambdaContext())"
   ]
  },
  {
   "cell_type": "code",
   "execution_count": null,
   "metadata": {},
   "outputs": [],
   "source": [
    "update_path(\"lead-time-for-changes/1\")\n",
    "app.handler(event, FakeLambdaContext())"
   ]
  }
 ],
 "metadata": {
  "kernelspec": {
   "display_name": ".venv",
   "language": "python",
   "name": "python3"
  },
  "language_info": {
   "codemirror_mode": {
    "name": "ipython",
    "version": 3
   },
   "file_extension": ".py",
   "mimetype": "text/x-python",
   "name": "python",
   "nbconvert_exporter": "python",
   "pygments_lexer": "ipython3",
   "version": "3.9.16"
  },
  "orig_nbformat": 4
 },
 "nbformat": 4,
 "nbformat_minor": 2
}
